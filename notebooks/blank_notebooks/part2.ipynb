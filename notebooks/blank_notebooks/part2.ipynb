{
 "cells": [
  {
   "cell_type": "markdown",
   "metadata": {
    "deletable": false,
    "editable": false,
    "nbgrader": {
     "cell_type": "markdown",
     "checksum": "8cb44d74e65859c11400e4acbd2735c7",
     "grade": false,
     "grade_id": "cell-133eb1fb35cb73ff",
     "locked": true,
     "schema_version": 3,
     "solution": false,
     "task": false
    }
   },
   "source": [
    "# Part 2: Introduction to NumPy and a first plot\n",
    "\n",
    "In Part 1, we looked at some basic elements of the python programming language. Now we're going to look at some additional features of the language and introduce a powerful 'package' for carrying out computational tasks in python. The objectives of this part of the exercise are:\n",
    "\n",
    "1. Introduce the NumPy package and learn how to access it.\n",
    "2. Introduce the NumPy array data type.\n",
    "3. Use a loop to perform an operation on data stored in an array.\n",
    "4. Make a simple graph (plot)"
   ]
  },
  {
   "cell_type": "markdown",
   "metadata": {
    "deletable": false,
    "editable": false,
    "nbgrader": {
     "cell_type": "markdown",
     "checksum": "d178c659c218b7153311ddb468cbdbe2",
     "grade": false,
     "grade_id": "cell-df05ad1903d1aa3e",
     "locked": true,
     "schema_version": 3,
     "solution": false,
     "task": false
    }
   },
   "source": [
    "# NumPy\n",
    "\n",
    "Numpy is an example of a python *package*, which is a collection of functions and data structures that can be loaded and used in your programs. Almost everything that we will do in this course will make use of NumPy in some way. The core functionality in numpy is the introduction of an *array* data type, which can hold a list of floating-point values. NumPy contains a variety of different functions to efficiently access and manipulate data stored in arrays.\n",
    "\n",
    "To load numpy, we use the special python command 'import':\n",
    "\n",
    "'''import numpy as np'''\n",
    "\n",
    "If at any time you need help with NumPy, you can access the help by clicking the **Help** menu above and then clicking **NumPy Reference**"
   ]
  },
  {
   "cell_type": "code",
   "execution_count": 2,
   "metadata": {
    "deletable": false,
    "editable": false,
    "nbgrader": {
     "cell_type": "code",
     "checksum": "22f99485af634fc495b8d855a67773e1",
     "grade": false,
     "grade_id": "cell-dd29a77f42c2eeb8",
     "locked": true,
     "schema_version": 3,
     "solution": false,
     "task": false
    }
   },
   "outputs": [],
   "source": [
    "#This will import all of the numpy functions and assign them the prefix 'np'\n",
    "import numpy as np"
   ]
  },
  {
   "cell_type": "markdown",
   "metadata": {
    "deletable": false,
    "editable": false,
    "nbgrader": {
     "cell_type": "markdown",
     "checksum": "7cbfd0ebaf12121f500ac81ac8d691b3",
     "grade": false,
     "grade_id": "cell-680f282663c9588c",
     "locked": true,
     "schema_version": 3,
     "solution": false,
     "task": false
    }
   },
   "source": [
    "As a first example, let's create a numpy array containing a list of numbers between 0-10."
   ]
  },
  {
   "cell_type": "code",
   "execution_count": 3,
   "metadata": {
    "deletable": false,
    "editable": false,
    "nbgrader": {
     "cell_type": "code",
     "checksum": "699c627ae14abf9b8ca402edd5bd8b3a",
     "grade": false,
     "grade_id": "cell-a61f2e401349474e",
     "locked": true,
     "schema_version": 3,
     "solution": false,
     "task": false
    }
   },
   "outputs": [
    {
     "name": "stdout",
     "output_type": "stream",
     "text": [
      "[ 1  2  3  4  5  6  7  8  9 10]\n"
     ]
    }
   ],
   "source": [
    "# Note - the data enclosed by square brackets [] are a list of numbers.\n",
    "x = np.array([1,2,3,4,5,6,7,8,9,10])\n",
    "print(x)"
   ]
  },
  {
   "cell_type": "code",
   "execution_count": 9,
   "metadata": {},
   "outputs": [
    {
     "name": "stdout",
     "output_type": "stream",
     "text": [
      "<class 'numpy.ndarray'>\n"
     ]
    }
   ],
   "source": [
    "some_other_list = [1,4]\n",
    "arr = np.array(some_other_list)\n",
    "print(type(arr))"
   ]
  },
  {
   "cell_type": "markdown",
   "metadata": {
    "deletable": false,
    "editable": false,
    "nbgrader": {
     "cell_type": "markdown",
     "checksum": "cd0140b56100a604872c7c5a02a25b82",
     "grade": false,
     "grade_id": "cell-3b98749805045193",
     "locked": true,
     "schema_version": 3,
     "solution": false,
     "task": false
    }
   },
   "source": [
    "As you can see, x contains the numbers between 1-10. The array has some important properties that we can examine. First, its shape:"
   ]
  },
  {
   "cell_type": "code",
   "execution_count": 10,
   "metadata": {
    "deletable": false,
    "editable": false,
    "nbgrader": {
     "cell_type": "code",
     "checksum": "f920bfcd8e55040cc7e9d723546f9f1f",
     "grade": false,
     "grade_id": "cell-36aee08ec4ab52dc",
     "locked": true,
     "schema_version": 3,
     "solution": false,
     "task": false
    }
   },
   "outputs": [
    {
     "name": "stdout",
     "output_type": "stream",
     "text": [
      "(10,)\n"
     ]
    }
   ],
   "source": [
    "print(x.shape)"
   ]
  },
  {
   "cell_type": "markdown",
   "metadata": {
    "deletable": false,
    "editable": false,
    "nbgrader": {
     "cell_type": "markdown",
     "checksum": "12ca61ea0e19a0998804e9de8922bb8f",
     "grade": false,
     "grade_id": "cell-d29fd48227b1aec9",
     "locked": true,
     "schema_version": 3,
     "solution": false,
     "task": false
    }
   },
   "source": [
    "One-dimensional arrays in NumPy also have a well-defined property called 'size'. Print out the size of x below:"
   ]
  },
  {
   "cell_type": "code",
   "execution_count": 15,
   "metadata": {
    "deletable": false,
    "nbgrader": {
     "cell_type": "code",
     "checksum": "756bdfc925626182d4f83a43956b321c",
     "grade": true,
     "grade_id": "cell-10f2635f881fd17e",
     "locked": false,
     "points": 1,
     "schema_version": 3,
     "solution": true,
     "task": false
    }
   },
   "outputs": [
    {
     "name": "stdout",
     "output_type": "stream",
     "text": [
      "[[1 2]\n",
      " [2 3]]\n",
      "(2, 2)\n"
     ]
    }
   ],
   "source": [
    "y = np.array([[1,2],[2,3]])\n",
    "print(y)\n",
    "print(y.shape)"
   ]
  },
  {
   "cell_type": "markdown",
   "metadata": {
    "deletable": false,
    "editable": false,
    "nbgrader": {
     "cell_type": "markdown",
     "checksum": "1bfc7cd5846a7c7c94e02b6b68988930",
     "grade": false,
     "grade_id": "cell-124182170208b292",
     "locked": true,
     "schema_version": 3,
     "solution": false,
     "task": false
    }
   },
   "source": [
    "As we can see above, the shape of x is (10,). This means that the array has only one dimension and that it's 10 elements long. NumPy can store multidimensional data (like matrices or 3D volume data) as 2- or 3- dimensional arrays, which we will examine later.\n",
    "\n",
    "Now, what can we do with the data once it's stored in an array? One thing that we might want to do is calculate the mean of the values in the array and assign the mean to a new variable called x_mean. NumPy has some functionality that allows us to calculate the mean with a single command."
   ]
  },
  {
   "cell_type": "code",
   "execution_count": 18,
   "metadata": {
    "nbgrader": {
     "cell_type": "code",
     "checksum": "0b9ee435502e6f25c0c11e6e5e93f67a",
     "grade": false,
     "grade_id": "cell-ed459bef625be713",
     "locked": true,
     "schema_version": 3,
     "solution": false,
     "task": false
    }
   },
   "outputs": [
    {
     "name": "stdout",
     "output_type": "stream",
     "text": [
      "5.5\n"
     ]
    },
    {
     "data": {
      "text/plain": [
       "array([3, 5])"
      ]
     },
     "execution_count": 18,
     "metadata": {},
     "output_type": "execute_result"
    }
   ],
   "source": [
    "print(np.mean(x))\n",
    "np.sum(x)\n"
   ]
  },
  {
   "cell_type": "code",
   "execution_count": 21,
   "metadata": {},
   "outputs": [
    {
     "name": "stdout",
     "output_type": "stream",
     "text": [
      "[[1 1]\n",
      " [2 2]]\n"
     ]
    },
    {
     "data": {
      "text/plain": [
       "array([2, 4])"
      ]
     },
     "execution_count": 21,
     "metadata": {},
     "output_type": "execute_result"
    }
   ],
   "source": [
    "y = np.array([[1,1],[2,2]])\n",
    "print(y)\n",
    "np.sum(y,1)"
   ]
  },
  {
   "cell_type": "markdown",
   "metadata": {
    "deletable": false,
    "editable": false,
    "nbgrader": {
     "cell_type": "markdown",
     "checksum": "b32fde14ceb2ca974de2bc9948d4dd8a",
     "grade": false,
     "grade_id": "cell-5a4501aca93b7f45",
     "locked": true,
     "schema_version": 3,
     "solution": false,
     "task": false
    }
   },
   "source": [
    "The command above is a little bit different from those that we've seen before. Taking apart the syntax:\n",
    "- 'x' tells python that we want to do something with the variable 'x'.\n",
    "- The '.' after x tells python that we want to access some property of *method* of 'x'. A method is a function that runs on 'x'. A NumPy array has many different methods built in that can be used to manipulate its values.\n",
    "- 'mean()' tells python that we want to calculate the mean of the values in x.\n",
    "\n",
    "To see a full list of the built in methods that can act on a numpy array, go to Help->NumPy Reference and then click on 'ndarray'."
   ]
  },
  {
   "cell_type": "markdown",
   "metadata": {
    "deletable": false,
    "editable": false,
    "nbgrader": {
     "cell_type": "markdown",
     "checksum": "3627ec384fd8104dd117b44a9c1bcc2d",
     "grade": false,
     "grade_id": "cell-e7c8f7070489c744",
     "locked": true,
     "schema_version": 3,
     "solution": false,
     "task": false
    }
   },
   "source": [
    "# Task:\n",
    "Use the NumPy documentation for 'ndarray' (see above) to find out how to calculate the sum of all of the elements in the array x. Assign the result to the variable 'x_sum':"
   ]
  },
  {
   "cell_type": "code",
   "execution_count": null,
   "metadata": {
    "deletable": false,
    "nbgrader": {
     "cell_type": "code",
     "checksum": "daa439024f47cfcdc54847d85e5632ba",
     "grade": false,
     "grade_id": "cell-39e5b34d2fe704bc",
     "locked": false,
     "schema_version": 3,
     "solution": true,
     "task": false
    }
   },
   "outputs": [],
   "source": []
  },
  {
   "cell_type": "markdown",
   "metadata": {},
   "source": [
    "We can interact with numpy arrays much like lists:"
   ]
  },
  {
   "cell_type": "code",
   "execution_count": 24,
   "metadata": {
    "deletable": false,
    "nbgrader": {
     "cell_type": "code",
     "checksum": "3a85b61d85590f69e8fc07d670b7d00f",
     "grade": true,
     "grade_id": "cell-9c475608cc25e96c",
     "locked": false,
     "points": 1,
     "schema_version": 3,
     "solution": true,
     "task": false
    }
   },
   "outputs": [
    {
     "name": "stdout",
     "output_type": "stream",
     "text": [
      "[ 1  2  3  4  5  6  7  8  9 10]\n",
      "1\n",
      "[1 2 3 4 5]\n"
     ]
    }
   ],
   "source": [
    "print(x)\n",
    "x0 = x[0]\n",
    "print(x0)\n",
    "x_first_half = x[:5]\n",
    "print(x_first_half)\n"
   ]
  },
  {
   "cell_type": "markdown",
   "metadata": {
    "deletable": false,
    "editable": false,
    "nbgrader": {
     "cell_type": "markdown",
     "checksum": "a0f653d1c0f058912b48b1160c21cfa4",
     "grade": false,
     "grade_id": "cell-8921c911db228c83",
     "locked": true,
     "schema_version": 3,
     "solution": false,
     "task": false
    }
   },
   "source": [
    "Sometimes it is useful to read or modify the value at a specific location in an array. In python, we access the value at a specific location in an array using its *index*. In python, the first item in an array has the index '0' and the last item has an index of 'N-1' where 'N' is the length of the array.\n",
    "\n",
    "We can access a specific item in x using the syntax:\n",
    "``x[index]``\n",
    "\n",
    "For example, if we want the second item, we can type:\n",
    "``x[1]``\n",
    "(remember: the second item has an index of 1, because the first item has an index of 0).\n",
    "Use the cell below to experiment with accessing elements in x. Try accessing an element with an index greater than (N-1) or less than 0 and think about what happens."
   ]
  },
  {
   "cell_type": "code",
   "execution_count": null,
   "metadata": {
    "deletable": false,
    "nbgrader": {
     "cell_type": "code",
     "checksum": "b1784371446929bc9bb4680e6531fedf",
     "grade": true,
     "grade_id": "cell-c49f9b6d99c6105d",
     "locked": false,
     "points": 1,
     "schema_version": 3,
     "solution": true,
     "task": false
    }
   },
   "outputs": [],
   "source": []
  },
  {
   "cell_type": "markdown",
   "metadata": {},
   "source": [
    "Numpy is particularly useful in running element-wise calculations. "
   ]
  },
  {
   "cell_type": "code",
   "execution_count": 27,
   "metadata": {},
   "outputs": [
    {
     "name": "stdout",
     "output_type": "stream",
     "text": [
      "[1, 2, 3, 4, 5, 6, 7, 8, 9, 10]\n"
     ]
    },
    {
     "data": {
      "text/plain": [
       "array([  3,   8,  15,  24,  35,  48,  63,  80,  99, 120])"
      ]
     },
     "execution_count": 27,
     "metadata": {},
     "output_type": "execute_result"
    }
   ],
   "source": [
    "x2 = []\n",
    "for ix in x:\n",
    "    x2.append(ix)\n",
    "print(x2)\n",
    "\n",
    "2*x+x**2"
   ]
  },
  {
   "cell_type": "markdown",
   "metadata": {},
   "source": [
    "Numpy also supports more complicated mathematical functions and matrix operations"
   ]
  },
  {
   "cell_type": "code",
   "execution_count": 30,
   "metadata": {},
   "outputs": [
    {
     "name": "stdout",
     "output_type": "stream",
     "text": [
      "[[1. 0. 0.]\n",
      " [0. 1. 0.]\n",
      " [0. 0. 1.]]\n",
      "[[0.89120894 0.51951176 0.70645679]\n",
      " [0.23664116 0.30164138 0.96445838]\n",
      " [0.52190605 0.14404549 0.78349373]]\n",
      "[[0.89120894 0.51951176 0.70645679]\n",
      " [0.23664116 0.30164138 0.96445838]\n",
      " [0.52190605 0.14404549 0.78349373]]\n"
     ]
    }
   ],
   "source": [
    "I = np.eye(3)\n",
    "print(I)\n",
    "A = np.random.random((3,3))\n",
    "print(A)\n",
    "B = np.matmul(A,I)\n",
    "print(B)"
   ]
  },
  {
   "cell_type": "markdown",
   "metadata": {
    "deletable": false,
    "editable": false,
    "nbgrader": {
     "cell_type": "markdown",
     "checksum": "ff61f394a24c86530dafc0f1a6e61e25",
     "grade": false,
     "grade_id": "cell-39ebeca41b40a175",
     "locked": true,
     "schema_version": 3,
     "solution": false,
     "task": false
    }
   },
   "source": [
    "# Your first plot\n",
    "\n",
    "There is a python package called matplotlib that contains functions for preparing figures and visualizing data. Let's go through an example of how to plot the values of a function and prepare a neatly labeled figure:"
   ]
  },
  {
   "cell_type": "code",
   "execution_count": 31,
   "metadata": {
    "nbgrader": {
     "cell_type": "code",
     "checksum": "9fb87d50a4eb9a27c2394f5d0a0fb27e",
     "grade": false,
     "grade_id": "cell-c59b1e079d225a6e",
     "locked": true,
     "schema_version": 3,
     "solution": false,
     "task": false
    }
   },
   "outputs": [
    {
     "data": {
      "image/png": "[encoded data removed]",
      "text/plain": [
       "<Figure size 432x288 with 1 Axes>"
      ]
     },
     "metadata": {
      "needs_background": "light"
     },
     "output_type": "display_data"
    }
   ],
   "source": [
    "import matplotlib.pyplot as plt\n",
    "plt.figure()                        # This creates a new figure window\n",
    "t = np.linspace(-1.0,1.0,200)       # Generate 200 uniformly spaced values between -1.0 and 1.0\n",
    "y = np.cos(np.pi*t)                 # Calculate cos(pi*t)\n",
    "plt.plot(t,y,label='cos($\\pi t$)')  # plot t on the horizontal axis and y on the vertical axis. label the curve.\n",
    "plt.legend()                        # add a legend. the label in the legend is taken from the previous 'label'\n",
    "plt.xlabel('t')\n",
    "plt.ylabel('y')\n",
    "plt.show()                          # show the plot"
   ]
  },
  {
   "cell_type": "markdown",
   "metadata": {
    "deletable": false,
    "editable": false,
    "nbgrader": {
     "cell_type": "markdown",
     "checksum": "8d07e1c4f0c73a5e2041c64242c7277a",
     "grade": false,
     "grade_id": "cell-7eccc9f8ea710f1b",
     "locked": true,
     "schema_version": 3,
     "solution": false,
     "task": false
    }
   },
   "source": [
    "# Task:\n",
    "\n",
    "Make a plot of the function $f(x)=x^2$ over the interval $-2\\le x \\le 2$. Use a black line to plot the function. Label the horizontal axis 'x' and the vertical axis 'f(x)'. Add a legend with the formula for the function.\n",
    "\n",
    "*Hint:* To change the line style of the curve, see the documentation for 'plot' by selecting **Help->Matplotlib Reference** above. Then click on Tutorials and look at the 'pyplot' tutorial"
   ]
  },
  {
   "cell_type": "code",
   "execution_count": null,
   "metadata": {
    "deletable": false,
    "nbgrader": {
     "cell_type": "code",
     "checksum": "1bb3bf3eb7a4dd4f073e2e76d97f4935",
     "grade": true,
     "grade_id": "cell-009e7b4f3cb5cb94",
     "locked": false,
     "points": 4,
     "schema_version": 3,
     "solution": true,
     "task": false
    }
   },
   "outputs": [],
   "source": []
  },
  {
   "cell_type": "markdown",
   "metadata": {},
   "source": [
    "## Bonus: \n",
    "\n",
    "Make a figure with three subplots over the interval $-2\\le x \\le 2$:\n",
    "1. a plot of the function $f(x)=x^2$\n",
    "\n",
    "2. a plot of its numerical derivative: \n",
    "$$ f'(x_i) \\sim \\dfrac{f(x_{i+1}) - f(x_i)}{x_{i+1}-x_i}$$\n",
    "\n",
    "3. a plot of its numberical integration:\n",
    "$$ \\int_0^x f(x) dx \\sim \\sum_{i<x/\\Delta x} f(x_{i})({x_{i+1}-x_i}) $$\n",
    "\n",
    "*Hint*: Check out the documentation for np.diff and np.cumsum"
   ]
  },
  {
   "cell_type": "code",
   "execution_count": 32,
   "metadata": {},
   "outputs": [
    {
     "data": {
      "image/png": "[encoded data removed]",
      "text/plain": [
       "<Figure size 216x432 with 3 Axes>"
      ]
     },
     "metadata": {
      "needs_background": "light"
     },
     "output_type": "display_data"
    }
   ],
   "source": [
    "fig,ax = plt.subplots(3,1,figsize=[3,6],sharex=True)\n",
    "x = np.linspace(-2,2,100)           # Generate 100 uniformly spaced values between -2.0 and 2.0\n",
    "\n",
    "y = x**2                            # Calculate x^2 \n",
    "ax[0].plot(x,y,\n",
    "           'k')                     # plot x on the horizontal axis and f(x) on the vertical axis. \n",
    "ax[0].set_ylabel('f(x)')           \n",
    "\n",
    "dydx = np.diff(y)/np.diff(x)        \n",
    "ax[1].plot(x[:-1],dydx,\n",
    "           'k')\n",
    "ax[1].set_ylabel('f`(x)')\n",
    "\n",
    "dx = x[1]-x[0]\n",
    "inty = np.cumsum(y*dx)\n",
    "ax[2].plot(x,inty,\n",
    "           'k')\n",
    "ax[2].set_xlabel('x')\n",
    "ax[2].set_ylabel('$\\int f(x)dx$')\n",
    "\n",
    "plt.tight_layout()"
   ]
  },
  {
   "cell_type": "code",
   "execution_count": null,
   "metadata": {},
   "outputs": [],
   "source": []
  }
 ],
 "metadata": {
  "celltoolbar": "Edit Metadata",
  "kernelspec": {
   "display_name": "Python 3 (ipykernel)",
   "language": "python",
   "name": "python3"
  },
  "language_info": {
   "codemirror_mode": {
    "name": "ipython",
    "version": 3
   },
   "file_extension": ".py",
   "mimetype": "text/x-python",
   "name": "python",
   "nbconvert_exporter": "python",
   "pygments_lexer": "ipython3",
   "version": "3.7.11"
  }
 },
 "nbformat": 4,
 "nbformat_minor": 4
}
